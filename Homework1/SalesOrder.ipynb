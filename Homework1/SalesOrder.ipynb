{
 "cells": [
  {
   "cell_type": "markdown",
   "metadata": {},
   "source": [
    "#### Step-1 :  This code is making sales and customer yield rate table"
   ]
  },
  {
   "cell_type": "code",
   "execution_count": 7,
   "metadata": {},
   "outputs": [
    {
     "name": "stdout",
     "output_type": "stream",
     "text": [
      "CSV file 'sales_orders.csv' has been created successfully.\n",
      "Data from 'sales_orders.csv' has been successfully imported into 'salesorders.db' database, table 'sales_orders'.\n"
     ]
    }
   ],
   "source": [
    "import pandas as pd\n",
    "import sqlite3\n",
    "import random\n",
    "\n",
    "# Step 1: Generate Random Data\n",
    "sales_ids = ['Sales A', 'Sales B', 'Sales C', 'Sales D', 'Sales E']\n",
    "sales_names = ['Alice', 'Bob', 'Charlie', 'David', 'Eve']\n",
    "customers = [f'Customer {i}' for i in range(1, 21)]\n",
    "order_ids = [f'2024-{str(i).zfill(2)}' for i in range(1, 51)]\n",
    "\n",
    "# Data list to hold rows for the CSV file\n",
    "data = []\n",
    "\n",
    "# Assign each sales rep to approximately 5 customers\n",
    "for sales_id, sales_name in zip(sales_ids, sales_names):\n",
    "    assigned_customers = random.sample(customers, k=5)\n",
    "    for customer in assigned_customers:\n",
    "        # Each customer will have 3 to 4 orders\n",
    "        num_orders = random.randint(3, 4)\n",
    "        for _ in range(num_orders):\n",
    "            order_id = random.choice(order_ids)\n",
    "            yield_rate = round(random.uniform(96.1, 99.8), 2)\n",
    "            data.append([sales_id, sales_name, customer, order_id, yield_rate])\n",
    "\n",
    "# Step 2: Convert the Data to a DataFrame\n",
    "columns = ['Sales ID', 'Sales Name', 'Customer ID', 'Order ID', 'Yield Rate']\n",
    "df = pd.DataFrame(data, columns=columns)\n",
    "\n",
    "# Save the DataFrame to a CSV file\n",
    "csv_filename = 'sales_orders.csv'\n",
    "df.to_csv(csv_filename, index=False)\n",
    "print(f\"CSV file '{csv_filename}' has been created successfully.\")\n",
    "\n",
    "# Step 3: Import CSV into SQLite Database\n",
    "db_filename = 'salesorders.db'\n",
    "conn = sqlite3.connect(db_filename)\n",
    "cursor = conn.cursor()\n",
    "\n",
    "# Create a new table in the SQLite database\n",
    "table_name = 'sales_orders'\n",
    "cursor.execute(f\"DROP TABLE IF EXISTS {table_name}\")\n",
    "\n",
    "# Define the table schema\n",
    "create_table_query = f'''\n",
    "CREATE TABLE {table_name} (\n",
    "    \"Sales ID\" TEXT,\n",
    "    \"Sales Name\" TEXT,\n",
    "    \"Customer ID\" TEXT,\n",
    "    \"Order ID\" TEXT,\n",
    "    \"Yield Rate\" REAL\n",
    ")\n",
    "'''\n",
    "cursor.execute(create_table_query)\n",
    "\n",
    "# Insert the data from CSV into the SQLite database\n",
    "df.to_sql(table_name, conn, if_exists='append', index=False)\n",
    "\n",
    "# Commit and close the database connection\n",
    "conn.commit()\n",
    "conn.close()\n",
    "\n",
    "print(f\"Data from '{csv_filename}' has been successfully imported into '{db_filename}' database, table '{table_name}'.\")\n"
   ]
  }
 ],
 "metadata": {
  "kernelspec": {
   "display_name": "tvdi",
   "language": "python",
   "name": "python3"
  },
  "language_info": {
   "codemirror_mode": {
    "name": "ipython",
    "version": 3
   },
   "file_extension": ".py",
   "mimetype": "text/x-python",
   "name": "python",
   "nbconvert_exporter": "python",
   "pygments_lexer": "ipython3",
   "version": "3.11.10"
  }
 },
 "nbformat": 4,
 "nbformat_minor": 2
}
