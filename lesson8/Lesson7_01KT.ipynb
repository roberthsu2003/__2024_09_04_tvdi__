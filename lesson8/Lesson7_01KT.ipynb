{
 "cells": [
  {
   "cell_type": "code",
   "execution_count": 6,
   "metadata": {},
   "outputs": [],
   "source": [
    "\n",
    "import sqlite3\n",
    "conn = sqlite3.connect(\"AQI.db\")\n",
    "with conn:\n",
    "    sql = '''\n",
    "    CREATE TABLE IF NOT EXISTS records (\n",
    "        id INTEGER NOT NULL PRIMARY KEY AUTOINCREMENT,\n",
    "        sitename TEXT NOT NULL,\n",
    "        county TEXT,\n",
    "        aqi INTEGER,\n",
    "        status TEXT,\n",
    "        pm25 NUMERIC,\n",
    "        date TEXT,\n",
    "        lat NUMERIC,\n",
    "        lon NUMERIC,\n",
    "        UNIQUE(sitename,date)\n",
    "    );\n",
    "    '''\n",
    "    cursor = conn.cursor()\n",
    "    cursor.execute(sql)"
   ]
  },
  {
   "cell_type": "code",
   "execution_count": 7,
   "metadata": {},
   "outputs": [
    {
     "name": "stdout",
     "output_type": "stream",
     "text": [
      "['萬里', '竹東', '恆春', '平鎮', '安南', '林口', '觀音', '中山', '宜蘭（頭城）', '橋頭', '陽明', '朴子', '小港', '屏東(枋山)', '崙背', '大城', '前鎮', '馬公', '頭份', '高雄（湖內）', '埔里', '美濃', '萬華', '新莊', '大園', '善化', '臺南', '土城', '富貴角', '新店', '基隆', '林園', '新營', '淡水', '楠梓', '線西', '臺東', '麥寮', '宜蘭', '鳳山', '西屯', '潮州', '三義', '桃園', '大同', '湖口', '古亭', '松山', '馬祖', '中壢', '斗六', '三重', '竹山', '花蓮', '大寮', '仁武', '臺南（麻豆）', '永和', '苗栗', '汐止', '臺西', '南投', '新港', '豐原', '新北(樹林)', '新竹', '左營', '彰化', '士林', '菜寮', '大里', '忠明', '冬山', '彰化（員林）', '關山', '嘉義', '二林', '沙鹿', '復興', '屏東', '前金', '屏東（琉球）', '板橋', '金門', '龍潭']\n"
     ]
    }
   ],
   "source": [
    "import requests\n",
    "\n",
    "url = 'https://data.moenv.gov.tw/api/v2/aqx_p_488?api_key=e8dd42e6-9b8b-43f8-991e-b3dee723a52d&limit=1000&sort=datacreationdate%20desc&format=JSON'\n",
    "try:\n",
    "    response = requests.get(url)\n",
    "    response.raise_for_status()\n",
    "    data = response.json()\n",
    "except Exception as e:\n",
    "    print(e)\n",
    "else:\n",
    "    sitenames = set()\n",
    "    for items in data['records']:\n",
    "        sitenames.add(items['sitename'])\n",
    "\n",
    "    sitenames = list(sitenames)\n",
    "print(sitenames)"
   ]
  },
  {
   "cell_type": "code",
   "execution_count": 8,
   "metadata": {},
   "outputs": [
    {
     "data": {
      "text/plain": [
       "[['2024-11-04 12:00', '屏東縣', '39', '17', '良好', '22.260899', '120.651472'],\n",
       " ['2024-11-04 11:00', '屏東縣', '35', '8', '良好', '22.260899', '120.651472'],\n",
       " ['2024-11-04 11:00', '屏東縣', '35', '8', '良好', '22.260899', '120.651472'],\n",
       " ['2024-11-04 10:00', '屏東縣', '34', '18', '良好', '22.260899', '120.651472'],\n",
       " ['2024-11-04 10:00', '屏東縣', '34', '18', '良好', '22.260899', '120.651472'],\n",
       " ['2024-11-04 09:00', '屏東縣', '32', '5', '良好', '22.260899', '120.651472'],\n",
       " ['2024-11-04 09:00', '屏東縣', '32', '5', '良好', '22.260899', '120.651472'],\n",
       " ['2024-11-04 08:00', '屏東縣', '33', '6', '良好', '22.260899', '120.651472'],\n",
       " ['2024-11-04 08:00', '屏東縣', '33', '6', '良好', '22.260899', '120.651472'],\n",
       " ['2024-11-04 07:00', '屏東縣', '33', '5', '良好', '22.260899', '120.651472'],\n",
       " ['2024-11-04 07:00', '屏東縣', '33', '5', '良好', '22.260899', '120.651472'],\n",
       " ['2024-11-04 06:00', '屏東縣', '35', '4', '良好', '22.260899', '120.651472']]"
      ]
     },
     "execution_count": 8,
     "metadata": {},
     "output_type": "execute_result"
    }
   ],
   "source": [
    "import datasource\n",
    "datasource.get_selected_data(sitename='屏東(枋山)')"
   ]
  },
  {
   "cell_type": "code",
   "execution_count": 9,
   "metadata": {},
   "outputs": [],
   "source": [
    "import sqlite3\n",
    "conn = sqlite3.connect(\"AQI.db\")\n",
    "with conn:\n",
    "    sql = '''INSERT OR IGNORE INTO records(sitename,county,aqi,status,pm25,date,lat,lon)\n",
    "    values ('屏東(枋山)','屏東縣', 34, '良好',18,'2024-11-04 10:00', 22.260899, 120.651472);\n",
    "    '''\n",
    "    cursor = conn.cursor()\n",
    "    cursor.execute(sql)"
   ]
  },
  {
   "cell_type": "code",
   "execution_count": 10,
   "metadata": {},
   "outputs": [],
   "source": [
    "import sqlite3\n",
    "conn = sqlite3.connect(\"AQI.db\")\n",
    "url = 'https://data.moenv.gov.tw/api/v2/aqx_p_488?api_key=e8dd42e6-9b8b-43f8-991e-b3dee723a52d&limit=1000&sort=datacreationdate%20desc&format=JSON'\n",
    "try:\n",
    "    response = requests.get(url)\n",
    "    response.raise_for_status()\n",
    "    data = response.json()\n",
    "except Exception as e:\n",
    "    print(e)\n",
    "else:\n",
    "    sitenames = set()\n",
    "    with conn:\n",
    "        cursor = conn.cursor()\n",
    "        for items in data['records']:\n",
    "            sitename = items['sitename']\n",
    "            county = items['county']\n",
    "            aqi = int(items['aqi']) if items['aqi'] != '' else 0\n",
    "            status = items['status']\n",
    "            pm25 = float(items['pm2.5']) if items['pm2.5'] != '' else 0.0\n",
    "            date = items['datacreationdate']\n",
    "            lon = float(items['longitude']) if items['longitude'] != '' else 0.0\n",
    "            lat = float(items['latitude']) if items['latitude'] != '' else 0.0\n",
    "            sql = '''INSERT OR IGNORE INTO records(sitename,county,aqi,status,pm25,date,lat,lon)\n",
    "                    values (?,?, ?, ?,?,?,?,?);\n",
    "            '''\n",
    "            cursor.execute(sql,(sitename, county, aqi, status,pm25,date,lat,lon))\n",
    "\n",
    "        "
   ]
  }
 ],
 "metadata": {
  "kernelspec": {
   "display_name": "tvdi",
   "language": "python",
   "name": "python3"
  },
  "language_info": {
   "codemirror_mode": {
    "name": "ipython",
    "version": 3
   },
   "file_extension": ".py",
   "mimetype": "text/x-python",
   "name": "python",
   "nbconvert_exporter": "python",
   "pygments_lexer": "ipython3",
   "version": "3.11.10"
  }
 },
 "nbformat": 4,
 "nbformat_minor": 2
}
