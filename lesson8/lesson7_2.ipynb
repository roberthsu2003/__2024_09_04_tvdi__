{
 "cells": [
  {
   "cell_type": "code",
   "execution_count": 2,
   "metadata": {},
   "outputs": [
    {
     "data": {
      "text/plain": [
       "['屏東縣',\n",
       " '宜蘭縣',\n",
       " '新北市',\n",
       " '臺南市',\n",
       " '高雄市',\n",
       " '彰化縣',\n",
       " '雲林縣',\n",
       " '臺東縣',\n",
       " '澎湖縣',\n",
       " '金門縣',\n",
       " '連江縣',\n",
       " '南投縣',\n",
       " '桃園市',\n",
       " '臺北市',\n",
       " '花蓮縣',\n",
       " '嘉義市',\n",
       " '嘉義縣',\n",
       " '臺中市',\n",
       " '苗栗縣',\n",
       " '新竹市',\n",
       " '新竹縣',\n",
       " '基隆市']"
      ]
     },
     "execution_count": 2,
     "metadata": {},
     "output_type": "execute_result"
    }
   ],
   "source": [
    "\n",
    "import sqlite3\n",
    "def get_county()->list[str]:\n",
    "    '''\n",
    "    docString\n",
    "    parameter:\n",
    "    return:\n",
    "        傳出所有的城市名稱\n",
    "    '''\n",
    "    conn = sqlite3.connect(\"AQI.db\")\n",
    "    with conn:\n",
    "        # Create a cursor object to execute SQL commands\n",
    "        cursor = conn.cursor()\n",
    "        # SQL query to select unique sitenames from records table\n",
    "        sql = '''\n",
    "        SELECT DISTINCT county\n",
    "        FROM records\n",
    "        '''\n",
    "        # Execute the SQL query\n",
    "        cursor.execute(sql)\n",
    "        # Get all results and extract first item from each row into a list\n",
    "        counties = [items[0] for items in cursor.fetchall()]\n",
    "    \n",
    "    # Return the list of unique sitenames\n",
    "    return counties\n",
    "get_county()\n",
    "\n"
   ]
  }
 ],
 "metadata": {
  "kernelspec": {
   "display_name": "tvdi",
   "language": "python",
   "name": "python3"
  },
  "language_info": {
   "codemirror_mode": {
    "name": "ipython",
    "version": 3
   },
   "file_extension": ".py",
   "mimetype": "text/x-python",
   "name": "python",
   "nbconvert_exporter": "python",
   "pygments_lexer": "ipython3",
   "version": "3.11.10"
  }
 },
 "nbformat": 4,
 "nbformat_minor": 2
}
